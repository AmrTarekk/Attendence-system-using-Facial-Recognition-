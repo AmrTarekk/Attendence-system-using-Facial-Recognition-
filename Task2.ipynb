{
 "cells": [
  {
   "cell_type": "code",
   "execution_count": 1,
   "metadata": {},
   "outputs": [],
   "source": [
    "import pandas as pd\n",
    "import cv2\n",
    "import os\n",
    "import numpy as np"
   ]
  },
  {
   "cell_type": "markdown",
   "metadata": {},
   "source": [
    "# Creating and Appending in csv file"
   ]
  },
  {
   "cell_type": "code",
   "execution_count": 2,
   "metadata": {},
   "outputs": [
    {
     "data": {
      "text/plain": [
       "\"\\nraw_data = {'Name':[], 'ID':[], 'Path':[], 'Vec1':[], 'Vec2':[], 'Vec3':[], 'Vec4':[], 'Vec5':[]}\\ndf = pd.DataFrame(raw_data, columns = ['Name', 'ID', 'Path', 'Vec1', 'Vec2', 'Vec3', 'Vec4', 'Vec5'])\\ndf.to_csv('Sample.csv')\\ndf\\n\""
      ]
     },
     "execution_count": 2,
     "metadata": {},
     "output_type": "execute_result"
    }
   ],
   "source": [
    "#Creating CSV file\n",
    "'''\n",
    "raw_data = {'Name':[], 'ID':[], 'Path':[], 'Vec1':[], 'Vec2':[], 'Vec3':[], 'Vec4':[], 'Vec5':[]}\n",
    "df = pd.DataFrame(raw_data, columns = ['Name', 'ID', 'Path', 'Vec1', 'Vec2', 'Vec3', 'Vec4', 'Vec5'])\n",
    "df.to_csv('Sample.csv')\n",
    "df\n",
    "'''"
   ]
  },
  {
   "cell_type": "code",
   "execution_count": 3,
   "metadata": {},
   "outputs": [],
   "source": [
    "def Appending(Name,Num,Path,num1,num2,num3,num4,num5):\n",
    "    ds = pd.read_csv('Sample.csv',index_col=0)\n",
    "    length = len(ds)\n",
    "    #print(length)\n",
    "    ds.loc[length+1] =[Name,Num,Path,num1,num2,num3,num4,num5]\n",
    "    ds.to_csv('Sample.csv')"
   ]
  },
  {
   "cell_type": "markdown",
   "metadata": {},
   "source": [
    "# Taking 5 photos of the user "
   ]
  },
  {
   "cell_type": "code",
   "execution_count": 5,
   "metadata": {},
   "outputs": [],
   "source": [
    "def createfolder(name) :\n",
    "    newpath = 'Your Directory Path'+name \n",
    "    if not os.path.exists(newpath):\n",
    "        os.makedirs(newpath)"
   ]
  },
  {
   "cell_type": "code",
   "execution_count": 6,
   "metadata": {},
   "outputs": [],
   "source": [
    "def FivePhotos(num) :\n",
    "    cam = cv2.VideoCapture(0)\n",
    "\n",
    "    cv2.namedWindow(\"FivePhotos\")\n",
    "\n",
    "    img_counter = 1\n",
    "\n",
    "    while True:\n",
    "        ret, frame = cam.read()\n",
    "        #cv2.imshow(\"FivePhotos\", frame)\n",
    "        if not ret:\n",
    "            break\n",
    "        face_cascade = cv2.CascadeClassifier('haarcascade_frontalface_default.xml')\n",
    "        gray = cv2.cvtColor(frame, cv2.COLOR_BGR2GRAY)\n",
    "        faces = face_cascade.detectMultiScale(gray, 1.3, 5)\n",
    "        for (x,y,w,h) in faces:\n",
    "            cv2.rectangle(frame,(x,y),(x+w,y+h),(255,0,0),2)\n",
    "            \n",
    "        cv2.imshow(\"FivePhotos\", frame)\n",
    "            \n",
    "        k = cv2.waitKey(1)\n",
    "\n",
    "        if img_counter == 6:\n",
    "            print(\"Thank's for your time.\")\n",
    "            break\n",
    "        elif k%256 == 32: #Space\n",
    "            img_name = \"opencv_frame_{}.jpeg\".format(img_counter)\n",
    "            path = 'Your Directory Path'+str(num)\n",
    "            #cv2.imwrite(img_name, frame)\n",
    "            print(FaceOrNot(frame))\n",
    "            if FaceOrNot(frame) == True :\n",
    "                createfolder(str(num))\n",
    "                cv2.imwrite(os.path.join(path , img_name), frame)\n",
    "                img_counter += 1\n",
    "\n",
    "    cam.release()\n",
    "\n",
    "    cv2.destroyAllWindows()\n",
    "    \n",
    "    return path\n"
   ]
  },
  {
   "cell_type": "markdown",
   "metadata": {},
   "source": [
    "# we have captured a face ?"
   ]
  },
  {
   "cell_type": "code",
   "execution_count": 7,
   "metadata": {},
   "outputs": [],
   "source": [
    "def FaceOrNot(img) :\n",
    "    face_cascade = cv2.CascadeClassifier('haarcascade_frontalface_default.xml')\n",
    "    gray = cv2.cvtColor(img, cv2.COLOR_BGR2GRAY)\n",
    "    faces = face_cascade.detectMultiScale(gray, 1.3, 5)\n",
    "    #print(faces)\n",
    "    if len(faces) == 1 :\n",
    "        return True\n",
    "    else :\n",
    "        return False"
   ]
  },
  {
   "cell_type": "markdown",
   "metadata": {},
   "source": [
    "# Vector Extraction"
   ]
  },
  {
   "cell_type": "code",
   "execution_count": 8,
   "metadata": {},
   "outputs": [
    {
     "name": "stderr",
     "output_type": "stream",
     "text": [
      "Using TensorFlow backend.\n"
     ]
    }
   ],
   "source": [
    "#Model Calling\n",
    "from keras import backend as K\n",
    "from keras.models import Model\n",
    "from keras.layers import Input, Layer\n",
    "from model import create_model\n",
    "import numpy as np\n",
    "import os.path"
   ]
  },
  {
   "cell_type": "code",
   "execution_count": 9,
   "metadata": {},
   "outputs": [],
   "source": [
    "nn4_small2_pretrained = create_model()\n",
    "nn4_small2_pretrained.load_weights('weights/nn4.small2.v1.h5')"
   ]
  },
  {
   "cell_type": "code",
   "execution_count": 10,
   "metadata": {},
   "outputs": [],
   "source": [
    "#Input Preprocessing\n",
    "import cv2\n",
    "from align import AlignDlib\n",
    "\n",
    "%matplotlib inline\n",
    "\n",
    "def load_image(path):\n",
    "    img = cv2.imread(path, 1)\n",
    "    #print(img)\n",
    "    # OpenCV loads images with color channels\n",
    "    # in BGR order. So we need to reverse them\n",
    "    return img[...,::-1]\n",
    "\n",
    "# Initialize the OpenFace face alignment utility\n",
    "alignment = AlignDlib('landmarks.dat')\n",
    "\n",
    "def align_image(img):\n",
    "    return alignment.align(96, img, alignment.getLargestFaceBoundingBox(img), \n",
    "                           landmarkIndices=AlignDlib.OUTER_EYES_AND_NOSE)"
   ]
  },
  {
   "cell_type": "code",
   "execution_count": 11,
   "metadata": {},
   "outputs": [],
   "source": [
    "#Extraction Phase\n",
    "def ListOfVec(ID) : \n",
    "    Resultlist = []\n",
    "    for i in range(5) :\n",
    "        path = str(ID) + \"/opencv_frame_\" + str(i+1) + \".jpeg\"\n",
    "        #print(path)\n",
    "        img = load_image(path)\n",
    "        img = align_image(img)\n",
    "        img = (img / 255.).astype(np.float32)\n",
    "        Resultlist.append(nn4_small2_pretrained.predict(np.expand_dims(img, axis=0))[0])\n",
    "        #print(len(Resultlist))\n",
    "    return Resultlist"
   ]
  },
  {
   "cell_type": "markdown",
   "metadata": {},
   "source": [
    "# Main "
   ]
  },
  {
   "cell_type": "code",
   "execution_count": 14,
   "metadata": {},
   "outputs": [],
   "source": [
    "def UniqueID(ID):\n",
    "    dsx = pd.read_csv('Sample.csv',index_col=0)\n",
    "    saved_column = list(dsx['ID'])\n",
    "    if ID in saved_column :\n",
    "        return False\n",
    "    else :\n",
    "        return True"
   ]
  },
  {
   "cell_type": "code",
   "execution_count": 17,
   "metadata": {},
   "outputs": [
    {
     "name": "stdout",
     "output_type": "stream",
     "text": [
      "Enter your name please : Jimmy\n",
      "Enter your ID please : 7896\n",
      "Press Space to take a photo , Please Take 5 Photos\n",
      "False\n",
      "False\n",
      "False\n",
      "False\n",
      "False\n",
      "False\n",
      "True\n",
      "False\n",
      "False\n",
      "False\n",
      "False\n",
      "True\n",
      "False\n",
      "False\n",
      "False\n",
      "False\n",
      "False\n",
      "False\n",
      "False\n",
      "True\n",
      "True\n",
      "True\n",
      "Thank's for your time.\n"
     ]
    }
   ],
   "source": [
    "Name = input(\"Enter your name please : \")\n",
    "while(True) :\n",
    "    Num = input(\"Enter your ID please : \")\n",
    "    if UniqueID(int(Num)) == True : \n",
    "        break \n",
    "    else :\n",
    "        print(\"Enter a unique ID. \")\n",
    "print(\"Press Space to take a photo , Please Take 5 Photos\")\n",
    "Path = FivePhotos(Num)\n",
    "VecList = []\n",
    "VecList = ListOfVec(Num)\n",
    "Appending(Name,Num,Path,VecList[0],VecList[1],VecList[2],VecList[3],VecList[4])"
   ]
  },
  {
   "cell_type": "code",
   "execution_count": null,
   "metadata": {},
   "outputs": [],
   "source": []
  },
  {
   "cell_type": "code",
   "execution_count": null,
   "metadata": {},
   "outputs": [],
   "source": []
  },
  {
   "cell_type": "code",
   "execution_count": null,
   "metadata": {},
   "outputs": [],
   "source": []
  }
 ],
 "metadata": {
  "kernelspec": {
   "display_name": "Python 2",
   "language": "python",
   "name": "python2"
  },
  "language_info": {
   "codemirror_mode": {
    "name": "ipython",
    "version": 3
   },
   "file_extension": ".py",
   "mimetype": "text/x-python",
   "name": "python",
   "nbconvert_exporter": "python",
   "pygments_lexer": "ipython3",
   "version": "3.6.6"
  }
 },
 "nbformat": 4,
 "nbformat_minor": 2
}
